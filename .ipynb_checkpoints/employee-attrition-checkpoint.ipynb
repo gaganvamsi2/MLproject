{
 "cells": [
  {
   "cell_type": "markdown",
   "metadata": {
    "_uuid": "54b4f69da447251b5abbbcfa1b3a1e2afee58736"
   },
   "source": [
    "# Employee Attrition Data"
   ]
  },
  {
   "cell_type": "markdown",
   "metadata": {
    "_uuid": "b58b72645e75c3eb23b854619a7f31fc66ad6b76"
   },
   "source": [
    "We are going to find major causes of attrition in employees. Attrition results in lack of productivity which reults in lack of profit ,which ultimately leads to unemployment. It seems simple to point out few factors behind attrition such as low wages, working environment,relationship with boss etc, but actually there are a lot more from one's personal reason to his education. And this is where Statistics come in. This field of concern is so wide thatit has given birth to new ML research called **\"Interpretability\"**."
   ]
  },
  {
   "cell_type": "code",
   "execution_count": null,
   "metadata": {
    "_uuid": "f69473474084263614a1cec46a653dd262be9291"
   },
   "outputs": [],
   "source": [
    "import os\n",
    "print(os.listdir(\"../input\"))"
   ]
  },
  {
   "cell_type": "markdown",
   "metadata": {
    "_uuid": "d22694fa623f2f89befefd1f46d722038694f515"
   },
   "source": [
    "## Importing Libraries and Dataset"
   ]
  },
  {
   "cell_type": "code",
   "execution_count": 1,
   "metadata": {
    "_uuid": "e479fa9d6922a5bfe9448176ed0f655dba14f8dd"
   },
   "outputs": [],
   "source": [
    "import pandas as pd\n",
    "import numpy as np"
   ]
  },
  {
   "cell_type": "code",
   "execution_count": 3,
   "metadata": {
    "_uuid": "c1099f990946bacaaf9388e65ce334e94ea8fcea"
   },
   "outputs": [
    {
     "data": {
      "text/html": [
       "<div>\n",
       "<style scoped>\n",
       "    .dataframe tbody tr th:only-of-type {\n",
       "        vertical-align: middle;\n",
       "    }\n",
       "\n",
       "    .dataframe tbody tr th {\n",
       "        vertical-align: top;\n",
       "    }\n",
       "\n",
       "    .dataframe thead th {\n",
       "        text-align: right;\n",
       "    }\n",
       "</style>\n",
       "<table border=\"1\" class=\"dataframe\">\n",
       "  <thead>\n",
       "    <tr style=\"text-align: right;\">\n",
       "      <th></th>\n",
       "      <th>Age</th>\n",
       "      <th>Attrition</th>\n",
       "      <th>BusinessTravel</th>\n",
       "      <th>DailyRate</th>\n",
       "      <th>Department</th>\n",
       "      <th>DistanceFromHome</th>\n",
       "      <th>Education</th>\n",
       "      <th>EducationField</th>\n",
       "      <th>EmployeeCount</th>\n",
       "      <th>EmployeeNumber</th>\n",
       "      <th>...</th>\n",
       "      <th>RelationshipSatisfaction</th>\n",
       "      <th>StandardHours</th>\n",
       "      <th>StockOptionLevel</th>\n",
       "      <th>TotalWorkingYears</th>\n",
       "      <th>TrainingTimesLastYear</th>\n",
       "      <th>WorkLifeBalance</th>\n",
       "      <th>YearsAtCompany</th>\n",
       "      <th>YearsInCurrentRole</th>\n",
       "      <th>YearsSinceLastPromotion</th>\n",
       "      <th>YearsWithCurrManager</th>\n",
       "    </tr>\n",
       "  </thead>\n",
       "  <tbody>\n",
       "    <tr>\n",
       "      <th>0</th>\n",
       "      <td>41</td>\n",
       "      <td>Yes</td>\n",
       "      <td>Travel_Rarely</td>\n",
       "      <td>1102</td>\n",
       "      <td>Sales</td>\n",
       "      <td>1</td>\n",
       "      <td>2</td>\n",
       "      <td>Life Sciences</td>\n",
       "      <td>1</td>\n",
       "      <td>1</td>\n",
       "      <td>...</td>\n",
       "      <td>1</td>\n",
       "      <td>80</td>\n",
       "      <td>0</td>\n",
       "      <td>8</td>\n",
       "      <td>0</td>\n",
       "      <td>1</td>\n",
       "      <td>6</td>\n",
       "      <td>4</td>\n",
       "      <td>0</td>\n",
       "      <td>5</td>\n",
       "    </tr>\n",
       "    <tr>\n",
       "      <th>1</th>\n",
       "      <td>49</td>\n",
       "      <td>No</td>\n",
       "      <td>Travel_Frequently</td>\n",
       "      <td>279</td>\n",
       "      <td>Research &amp; Development</td>\n",
       "      <td>8</td>\n",
       "      <td>1</td>\n",
       "      <td>Life Sciences</td>\n",
       "      <td>1</td>\n",
       "      <td>2</td>\n",
       "      <td>...</td>\n",
       "      <td>4</td>\n",
       "      <td>80</td>\n",
       "      <td>1</td>\n",
       "      <td>10</td>\n",
       "      <td>3</td>\n",
       "      <td>3</td>\n",
       "      <td>10</td>\n",
       "      <td>7</td>\n",
       "      <td>1</td>\n",
       "      <td>7</td>\n",
       "    </tr>\n",
       "    <tr>\n",
       "      <th>2</th>\n",
       "      <td>37</td>\n",
       "      <td>Yes</td>\n",
       "      <td>Travel_Rarely</td>\n",
       "      <td>1373</td>\n",
       "      <td>Research &amp; Development</td>\n",
       "      <td>2</td>\n",
       "      <td>2</td>\n",
       "      <td>Other</td>\n",
       "      <td>1</td>\n",
       "      <td>4</td>\n",
       "      <td>...</td>\n",
       "      <td>2</td>\n",
       "      <td>80</td>\n",
       "      <td>0</td>\n",
       "      <td>7</td>\n",
       "      <td>3</td>\n",
       "      <td>3</td>\n",
       "      <td>0</td>\n",
       "      <td>0</td>\n",
       "      <td>0</td>\n",
       "      <td>0</td>\n",
       "    </tr>\n",
       "    <tr>\n",
       "      <th>3</th>\n",
       "      <td>33</td>\n",
       "      <td>No</td>\n",
       "      <td>Travel_Frequently</td>\n",
       "      <td>1392</td>\n",
       "      <td>Research &amp; Development</td>\n",
       "      <td>3</td>\n",
       "      <td>4</td>\n",
       "      <td>Life Sciences</td>\n",
       "      <td>1</td>\n",
       "      <td>5</td>\n",
       "      <td>...</td>\n",
       "      <td>3</td>\n",
       "      <td>80</td>\n",
       "      <td>0</td>\n",
       "      <td>8</td>\n",
       "      <td>3</td>\n",
       "      <td>3</td>\n",
       "      <td>8</td>\n",
       "      <td>7</td>\n",
       "      <td>3</td>\n",
       "      <td>0</td>\n",
       "    </tr>\n",
       "    <tr>\n",
       "      <th>4</th>\n",
       "      <td>27</td>\n",
       "      <td>No</td>\n",
       "      <td>Travel_Rarely</td>\n",
       "      <td>591</td>\n",
       "      <td>Research &amp; Development</td>\n",
       "      <td>2</td>\n",
       "      <td>1</td>\n",
       "      <td>Medical</td>\n",
       "      <td>1</td>\n",
       "      <td>7</td>\n",
       "      <td>...</td>\n",
       "      <td>4</td>\n",
       "      <td>80</td>\n",
       "      <td>1</td>\n",
       "      <td>6</td>\n",
       "      <td>3</td>\n",
       "      <td>3</td>\n",
       "      <td>2</td>\n",
       "      <td>2</td>\n",
       "      <td>2</td>\n",
       "      <td>2</td>\n",
       "    </tr>\n",
       "  </tbody>\n",
       "</table>\n",
       "<p>5 rows × 35 columns</p>\n",
       "</div>"
      ],
      "text/plain": [
       "   Age Attrition     BusinessTravel  DailyRate              Department  \\\n",
       "0   41       Yes      Travel_Rarely       1102                   Sales   \n",
       "1   49        No  Travel_Frequently        279  Research & Development   \n",
       "2   37       Yes      Travel_Rarely       1373  Research & Development   \n",
       "3   33        No  Travel_Frequently       1392  Research & Development   \n",
       "4   27        No      Travel_Rarely        591  Research & Development   \n",
       "\n",
       "   DistanceFromHome  Education EducationField  EmployeeCount  EmployeeNumber  \\\n",
       "0                 1          2  Life Sciences              1               1   \n",
       "1                 8          1  Life Sciences              1               2   \n",
       "2                 2          2          Other              1               4   \n",
       "3                 3          4  Life Sciences              1               5   \n",
       "4                 2          1        Medical              1               7   \n",
       "\n",
       "   ...  RelationshipSatisfaction StandardHours  StockOptionLevel  \\\n",
       "0  ...                         1            80                 0   \n",
       "1  ...                         4            80                 1   \n",
       "2  ...                         2            80                 0   \n",
       "3  ...                         3            80                 0   \n",
       "4  ...                         4            80                 1   \n",
       "\n",
       "   TotalWorkingYears  TrainingTimesLastYear WorkLifeBalance  YearsAtCompany  \\\n",
       "0                  8                      0               1               6   \n",
       "1                 10                      3               3              10   \n",
       "2                  7                      3               3               0   \n",
       "3                  8                      3               3               8   \n",
       "4                  6                      3               3               2   \n",
       "\n",
       "  YearsInCurrentRole  YearsSinceLastPromotion  YearsWithCurrManager  \n",
       "0                  4                        0                     5  \n",
       "1                  7                        1                     7  \n",
       "2                  0                        0                     0  \n",
       "3                  7                        3                     0  \n",
       "4                  2                        2                     2  \n",
       "\n",
       "[5 rows x 35 columns]"
      ]
     },
     "execution_count": 3,
     "metadata": {},
     "output_type": "execute_result"
    }
   ],
   "source": [
    "data = df=pd.read_csv(\"https://project-employees.s3.amazonaws.com/employeeinfo.csv\")\n",
    "data.head()"
   ]
  },
  {
   "cell_type": "code",
   "execution_count": 4,
   "metadata": {
    "_uuid": "9d1e765d7237613b22fa1bc325e94dcb29b2cd0a"
   },
   "outputs": [
    {
     "data": {
      "text/plain": [
       "Index(['Age', 'Attrition', 'BusinessTravel', 'DailyRate', 'Department',\n",
       "       'DistanceFromHome', 'Education', 'EducationField', 'EmployeeCount',\n",
       "       'EmployeeNumber', 'EnvironmentSatisfaction', 'Gender', 'HourlyRate',\n",
       "       'JobInvolvement', 'JobLevel', 'JobRole', 'JobSatisfaction',\n",
       "       'MaritalStatus', 'MonthlyIncome', 'MonthlyRate', 'NumCompaniesWorked',\n",
       "       'Over18', 'OverTime', 'PercentSalaryHike', 'PerformanceRating',\n",
       "       'RelationshipSatisfaction', 'StandardHours', 'StockOptionLevel',\n",
       "       'TotalWorkingYears', 'TrainingTimesLastYear', 'WorkLifeBalance',\n",
       "       'YearsAtCompany', 'YearsInCurrentRole', 'YearsSinceLastPromotion',\n",
       "       'YearsWithCurrManager'],\n",
       "      dtype='object')"
      ]
     },
     "execution_count": 4,
     "metadata": {},
     "output_type": "execute_result"
    }
   ],
   "source": [
    "data.columns"
   ]
  },
  {
   "cell_type": "markdown",
   "metadata": {
    "_uuid": "66a2fbcf7937fed59715f4290b3426c461174eb7"
   },
   "source": [
    "### Few of the predictors are useless carrying same value for all the observations ,thus having no significance in the desired output variable:\n",
    "####    'EmployeeCount' , 'EmployeeNumber' , 'Over18' , 'StandardHours"
   ]
  },
  {
   "cell_type": "code",
   "execution_count": 5,
   "metadata": {
    "_uuid": "78696a1e3de869b88d48e2cd0c0f759191540e4a"
   },
   "outputs": [
    {
     "data": {
      "text/plain": [
       "Index(['Age', 'Attrition', 'BusinessTravel', 'DailyRate', 'Department',\n",
       "       'DistanceFromHome', 'Education', 'EducationField',\n",
       "       'EnvironmentSatisfaction', 'Gender', 'HourlyRate', 'JobInvolvement',\n",
       "       'JobLevel', 'JobRole', 'JobSatisfaction', 'MaritalStatus',\n",
       "       'MonthlyIncome', 'MonthlyRate', 'NumCompaniesWorked', 'OverTime',\n",
       "       'PercentSalaryHike', 'PerformanceRating', 'RelationshipSatisfaction',\n",
       "       'StockOptionLevel', 'TotalWorkingYears', 'TrainingTimesLastYear',\n",
       "       'WorkLifeBalance', 'YearsAtCompany', 'YearsInCurrentRole',\n",
       "       'YearsSinceLastPromotion', 'YearsWithCurrManager'],\n",
       "      dtype='object')"
      ]
     },
     "execution_count": 5,
     "metadata": {},
     "output_type": "execute_result"
    }
   ],
   "source": [
    "data = data.drop(['EmployeeCount','EmployeeNumber','Over18','StandardHours'],axis=1)\n",
    "data.columns"
   ]
  },
  {
   "cell_type": "markdown",
   "metadata": {
    "_uuid": "69bba8799e5cb44d946f1e94f666f2f0bb5964a9"
   },
   "source": [
    "### Getting unique elements for every predictor variable"
   ]
  },
  {
   "cell_type": "code",
   "execution_count": null,
   "metadata": {
    "_uuid": "3ae3504cde835f20be67a1ceb9c9e77fe389761c"
   },
   "outputs": [],
   "source": [
    "data['MaritalStatus'].unique()"
   ]
  },
  {
   "cell_type": "markdown",
   "metadata": {
    "_uuid": "567aa082eeb65b66325708d8a94881286d942133"
   },
   "source": [
    "## Replacing our Attrition output by integer constants"
   ]
  },
  {
   "cell_type": "code",
   "execution_count": null,
   "metadata": {
    "_uuid": "64eb3e200ea41459ca7c29f8543147bccffe6173"
   },
   "outputs": [],
   "source": [
    "data.loc[data['Attrition']=='No','Attrition'] = 0\n",
    "data.loc[data['Attrition']=='Yes','Attrition'] = 1\n",
    "data.head()"
   ]
  },
  {
   "cell_type": "markdown",
   "metadata": {
    "_uuid": "2c6c079ad88f432bd853c8191e6807303e5dfd56"
   },
   "source": [
    "## Categorising on the basis of travel for business purposes; rarely,frequently or no travel"
   ]
  },
  {
   "cell_type": "code",
   "execution_count": null,
   "metadata": {
    "_uuid": "1444be83a74fde4fd508587e5b67f16d634133b0",
    "collapsed": true
   },
   "outputs": [],
   "source": [
    "data['Business_Travel_Rarely']=0\n",
    "data['Business_Travel_Frequently']=0\n",
    "data['Business_Non-Travel']=0\n",
    "\n",
    "data.loc[data['BusinessTravel']=='Travel_Rarely','Business_Travel_Rarely'] = 1\n",
    "data.loc[data['BusinessTravel']=='Travel_Frequently','Business_Travel_Frequently'] = 1\n",
    "data.loc[data['BusinessTravel']=='Non-Travel','Business_Non-Travel'] = 1"
   ]
  },
  {
   "cell_type": "markdown",
   "metadata": {
    "_uuid": "90a24c930dbe3d3154071d59dc72c47527265f44"
   },
   "source": [
    "## Categorising on the basis of education field"
   ]
  },
  {
   "cell_type": "code",
   "execution_count": null,
   "metadata": {
    "_uuid": "dc1a2c63967d0689296c9822c1b3db2de53188a2",
    "collapsed": true
   },
   "outputs": [],
   "source": [
    "data['Life Sciences']=0\n",
    "data['Medical']=0\n",
    "data['Marketing']=0\n",
    "data['Technical Degree']=0\n",
    "data['Education Human Resources']=0\n",
    "data['Education_Other']=0\n",
    "\n",
    "data.loc[data['EducationField']=='Life Sciences','Life Sciences'] = 1\n",
    "data.loc[data['EducationField']=='Medical','Medical'] = 1\n",
    "data.loc[data['EducationField']=='Other','Education_Other'] = 1\n",
    "data.loc[data['EducationField']=='Technical Degree','Technical Degree'] = 1\n",
    "data.loc[data['EducationField']=='Human Resources','Education Human Resources'] = 1\n",
    "data.loc[data['EducationField']=='Marketing','Marketing'] = 1"
   ]
  },
  {
   "cell_type": "markdown",
   "metadata": {
    "_uuid": "63336fbedbdd30813cd9bc8179dadd0d88bc6479"
   },
   "source": [
    "## Categorising on the basis of working department"
   ]
  },
  {
   "cell_type": "code",
   "execution_count": null,
   "metadata": {
    "_uuid": "20d7aa21d4c570ed0a2ee8942b1b93dd94646ae3",
    "collapsed": true
   },
   "outputs": [],
   "source": [
    "data['Sales']=0\n",
    "data['R&D']=0\n",
    "data['Dept_Human Resources'] =0\n",
    "\n",
    "data.loc[data['Department']=='Sales','Sales'] = 1\n",
    "data.loc[data['Department']=='Research & Development','R&D'] = 1\n",
    "data.loc[data['Department']=='Human Resources','Dept_Human Resources'] = 1"
   ]
  },
  {
   "cell_type": "markdown",
   "metadata": {
    "_uuid": "80953b0937660bb50e83ca5f4e5908a3665692ce"
   },
   "source": [
    "##  Setting predictor gender where male is indicated as 1 and female as 0"
   ]
  },
  {
   "cell_type": "code",
   "execution_count": null,
   "metadata": {
    "_uuid": "1edcee8e75dfd10d365a490dc106f9d35a4e2e44",
    "collapsed": true
   },
   "outputs": [],
   "source": [
    "data.loc[data['Gender']=='Male','Gender'] = 1\n",
    "data.loc[data['Gender']=='Female','Gender'] = 0"
   ]
  },
  {
   "cell_type": "markdown",
   "metadata": {
    "_uuid": "81cae6cf0bd3366cd5beb9ed805e196ecd78c982"
   },
   "source": [
    "## Categorising on the basis of Job Role"
   ]
  },
  {
   "cell_type": "code",
   "execution_count": null,
   "metadata": {
    "_uuid": "b946eaa4e8660f4103b8fdfe6dd3b305c4199e18"
   },
   "outputs": [],
   "source": [
    "data['Research Scientist']=0\n",
    "data['Laboratory Technician']=0\n",
    "data['Sales Executive']=0\n",
    "data['Manufacturing Director']=0\n",
    "data['Healthcare Representative']=0\n",
    "data['Sales Representative']=0\n",
    "data['Research Director']=0\n",
    "data['Manager'] = 0\n",
    "data['Job_Human_Resources'] = 0\n",
    "\n",
    "data.loc[data['JobRole']=='Research Scientist','Research Scientist'] = 1\n",
    "data.loc[data['JobRole']=='Laboratory Technician','Laboratory Technician'] = 1\n",
    "data.loc[data['JobRole']=='Sales Executive','Sales Executive'] = 1\n",
    "data.loc[data['JobRole']=='Sales Representative','Sales Representative'] = 1\n",
    "data.loc[data['JobRole']=='Manufacturing Director','Manufacturing Director'] = 1\n",
    "data.loc[data['JobRole']=='Healthcare Representative','Healthcare Representative'] = 1\n",
    "data.loc[data['JobRole']=='Research Director','Research Director'] = 1\n",
    "data.loc[data['JobRole']=='Manager','Manager'] = 1\n",
    "data.loc[data['JobRole']=='Human Resources','Job_Human_Resources'] = 1\n",
    "data.head()"
   ]
  },
  {
   "cell_type": "markdown",
   "metadata": {
    "_uuid": "d8ae43f29079b50dbbac5ba0e5b65d52f3ca97bc"
   },
   "source": [
    "## Categorising on the basis of Marital Satus of Employee"
   ]
  },
  {
   "cell_type": "code",
   "execution_count": null,
   "metadata": {
    "_uuid": "3bae90279d13bcc1856ff15ac9a5376abd5a2415",
    "collapsed": true
   },
   "outputs": [],
   "source": [
    "data['Marital_single']=0\n",
    "data['Marital_married']=0\n",
    "data['Marital_divorced']=0\n",
    "\n",
    "data.loc[data['MaritalStatus']=='Married','Marital_married'] = 1\n",
    "data.loc[data['MaritalStatus']=='Single','Marital_single'] = 1\n",
    "data.loc[data['MaritalStatus']=='Divorced','Marital_divorced'] = 1"
   ]
  },
  {
   "cell_type": "markdown",
   "metadata": {
    "_uuid": "297222330af2492d21e9d8b8065a6cc0e840013b"
   },
   "source": [
    "## Setting up the Over Time predictor"
   ]
  },
  {
   "cell_type": "code",
   "execution_count": null,
   "metadata": {
    "_uuid": "34e008121269e28d05e88c9c687184099152b5a1"
   },
   "outputs": [],
   "source": [
    "data.loc[data['OverTime']=='No','OverTime'] = 0\n",
    "data.loc[data['OverTime']=='Yes','OverTime'] = 1\n",
    "data.head()"
   ]
  },
  {
   "cell_type": "markdown",
   "metadata": {
    "_uuid": "0ccbf8f8a093e4da63a4e9b7c36cc4346e7be659"
   },
   "source": [
    "## Checking for useless predictor variables and removing them"
   ]
  },
  {
   "cell_type": "code",
   "execution_count": null,
   "metadata": {
    "_uuid": "7f4f4d00e2185c627a84fdc0d69b2622a003847d"
   },
   "outputs": [],
   "source": [
    "data.columns"
   ]
  },
  {
   "cell_type": "code",
   "execution_count": null,
   "metadata": {
    "_uuid": "6243abf99565c29c86b723715938e92d5f237ccc"
   },
   "outputs": [],
   "source": [
    "data = data.drop(['BusinessTravel','EducationField',\n",
    "                        'Department','JobRole','MaritalStatus'],axis=1)\n",
    "data.head()"
   ]
  },
  {
   "cell_type": "markdown",
   "metadata": {
    "_uuid": "d4598f0d0cb4d8d8ba0ce6d2c72f412420835cc6"
   },
   "source": [
    "## Converting datatypes of some predictor variables"
   ]
  },
  {
   "cell_type": "code",
   "execution_count": null,
   "metadata": {
    "_uuid": "cb033f92219be6acf6185e579bb0010455042e94",
    "scrolled": true
   },
   "outputs": [],
   "source": [
    "data.dtypes"
   ]
  },
  {
   "cell_type": "code",
   "execution_count": null,
   "metadata": {
    "_uuid": "fe4a4d124cb9d3111816f18c3c35d403ed313819",
    "collapsed": true
   },
   "outputs": [],
   "source": [
    "data['Attrition'] = data['Attrition'].astype('int')\n",
    "data['Gender'] = data['Gender'].astype('int')\n",
    "data['OverTime'] = data['OverTime'].astype('int')"
   ]
  },
  {
   "cell_type": "markdown",
   "metadata": {
    "_uuid": "4b33fac06e5353772bef98d86e8349d2c03d129b"
   },
   "source": [
    "## Finding coorelation among various predictors"
   ]
  },
  {
   "cell_type": "code",
   "execution_count": null,
   "metadata": {
    "_uuid": "73d3065c6917f073cb8c5fb2906dec8123ad7822"
   },
   "outputs": [],
   "source": [
    "data.corr()"
   ]
  },
  {
   "cell_type": "markdown",
   "metadata": {
    "_uuid": "fa0ab16a68aa4e831496649411007e55da61d569"
   },
   "source": [
    "## Dividing data into train and test dataset"
   ]
  },
  {
   "cell_type": "code",
   "execution_count": null,
   "metadata": {
    "_uuid": "8a27264d245a8c9f35c2a15fcf8bc221627c5707"
   },
   "outputs": [],
   "source": [
    "from sklearn.cross_validation import train_test_split\n",
    "#from random import seed\n",
    "\n",
    "#seed(20)\n",
    "train_x = data.drop(['Attrition'],axis=1)\n",
    "train_y = data['Attrition']\n",
    "\n",
    "X,test_x,Y,test_y = train_test_split(train_x, train_y, test_size=0.3,random_state=20)\n",
    "len(test_x)"
   ]
  },
  {
   "cell_type": "markdown",
   "metadata": {
    "_uuid": "e359b6b67679277fcae3527742ab6227783f38db"
   },
   "source": [
    "## Applying Loigistic Regression to our model"
   ]
  },
  {
   "cell_type": "code",
   "execution_count": null,
   "metadata": {
    "_uuid": "f0f5cd2554e07144e98fd4fc2987b6278b59e0e3"
   },
   "outputs": [],
   "source": [
    "from sklearn.linear_model import LogisticRegression\n",
    "\n",
    "#Y=Y.astype('int')\n",
    "\n",
    "clf = LogisticRegression()\n",
    "clf.fit(np.array(X),Y)"
   ]
  },
  {
   "cell_type": "markdown",
   "metadata": {
    "_uuid": "fae27084a0989358ce8041093b173006c10ad8a6"
   },
   "source": [
    "### Calculating accuracy of our model"
   ]
  },
  {
   "cell_type": "code",
   "execution_count": null,
   "metadata": {
    "_uuid": "dac244a59cb1905d5c0fe1e3df2dd4d5eed10440",
    "scrolled": true
   },
   "outputs": [],
   "source": [
    "from sklearn.metrics import accuracy_score\n",
    "\n",
    "pred_y = clf.predict(test_x)\n",
    "\n",
    "accuracy = accuracy_score(test_y, pred_y, normalize=True, sample_weight=None)\n",
    "accuracy"
   ]
  },
  {
   "cell_type": "markdown",
   "metadata": {
    "_uuid": "8ee681fbd401cbdb4f9802a09850ca7dbf5895b3"
   },
   "source": [
    "## Getting quantitative estimates of our model"
   ]
  },
  {
   "cell_type": "code",
   "execution_count": null,
   "metadata": {
    "_uuid": "6d474d3d27d67b3c60f0d3a5037125cf01d29e05"
   },
   "outputs": [],
   "source": [
    "from sklearn.metrics import classification_report\n",
    "\n",
    "print(classification_report(test_y, pred_y))"
   ]
  },
  {
   "cell_type": "markdown",
   "metadata": {
    "_uuid": "dca93f3e6ea9df804bdb39df20f44b38eed9885d"
   },
   "source": [
    "#### We have applied logistic model to the data getting an accuracy of 87.30%. As it is clear from our model that we are getting low value of recall for true value of attrition ,i.e., we are not getting enough of the relevant information from the data. The retrieved model shows high senstivity but low specifity.\n",
    "\n",
    "Now ,we will try a new model with few less relevant features trimmed out from our dataset."
   ]
  },
  {
   "cell_type": "markdown",
   "metadata": {
    "_uuid": "54e0e5c74e430b1f32fc2c5558e3ad280bd061e1"
   },
   "source": [
    "## Applying Recursive Feature Elimination (RFE) for feature selection"
   ]
  },
  {
   "cell_type": "code",
   "execution_count": null,
   "metadata": {
    "_uuid": "9e88736871a11bb2e4664c1a004af8323cc9e623"
   },
   "outputs": [],
   "source": [
    "from sklearn.feature_selection import RFE\n",
    "\n",
    "rfe = RFE(clf,40)\n",
    "rfe = rfe.fit(train_x,train_y)\n",
    "print(rfe.support_)\n",
    "print(rfe.ranking_)"
   ]
  },
  {
   "cell_type": "markdown",
   "metadata": {
    "_uuid": "dff340284992f272b3e9513ee9df7892488bf726"
   },
   "source": [
    "### Transforming our data to desired no. of features"
   ]
  },
  {
   "cell_type": "code",
   "execution_count": null,
   "metadata": {
    "_uuid": "dd627002125d9a336ae7494ac633cdbe59682ce8"
   },
   "outputs": [],
   "source": [
    "X =rfe.transform(X)\n",
    "X.shape"
   ]
  },
  {
   "cell_type": "code",
   "execution_count": null,
   "metadata": {
    "_uuid": "28fcd3180a180ccc5af6a911085402b9d2606299"
   },
   "outputs": [],
   "source": [
    "test_x = rfe.transform(test_x)\n",
    "test_x.shape"
   ]
  },
  {
   "cell_type": "markdown",
   "metadata": {
    "_uuid": "e2bde397abff86008041f4d84ab782dfc2fdf0d1"
   },
   "source": [
    "### Calculating accuracy of our modified model"
   ]
  },
  {
   "cell_type": "code",
   "execution_count": null,
   "metadata": {
    "_uuid": "65620905fc11f16ca2b5f03502ebd93244821f8f"
   },
   "outputs": [],
   "source": [
    "from sklearn.metrics import accuracy_score\n",
    "\n",
    "clf.fit(X,Y)\n",
    "pred_y = clf.predict(test_x)\n",
    "\n",
    "accuracy = accuracy_score(test_y, pred_y, normalize=True, sample_weight=None)\n",
    "accuracy"
   ]
  },
  {
   "cell_type": "markdown",
   "metadata": {
    "_uuid": "16c2a29f6f0e29f7ad685e2fd903776872324edb"
   },
   "source": [
    "### Quantitative estimates of our transformed model"
   ]
  },
  {
   "cell_type": "code",
   "execution_count": null,
   "metadata": {
    "_uuid": "9e062f5955abb115b9bf28443cdcd9a06675c350"
   },
   "outputs": [],
   "source": [
    "from sklearn.metrics import classification_report\n",
    "\n",
    "print(classification_report(test_y, pred_y))"
   ]
  },
  {
   "cell_type": "markdown",
   "metadata": {
    "_uuid": "e00f9abadd2adcb87ceac526e1ab4d6316c80816"
   },
   "source": [
    "#### Thus, we see a slight increase in accuracy of our model. We have trimmed our dataset to 40 features. Though we are reporting a decrease in precision of attried employees, we are getting a noticeable increase in recall and F-score.This ultimately results in increase of specificity of our model.This model also reduces our memory space and processing time as the operations to be performed are much less than former.\n",
    "\n",
    "We can work for better accuracies by changing number of features for selection and other parameters."
   ]
  }
 ],
 "metadata": {
  "kernelspec": {
   "display_name": "Python 3",
   "language": "python",
   "name": "python3"
  },
  "language_info": {
   "codemirror_mode": {
    "name": "ipython",
    "version": 3
   },
   "file_extension": ".py",
   "mimetype": "text/x-python",
   "name": "python",
   "nbconvert_exporter": "python",
   "pygments_lexer": "ipython3",
   "version": "3.7.3"
  }
 },
 "nbformat": 4,
 "nbformat_minor": 1
}
